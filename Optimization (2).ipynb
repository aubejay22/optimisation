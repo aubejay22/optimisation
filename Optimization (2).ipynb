{
  "cells": [
    {
      "cell_type": "code",
      "execution_count": null,
      "metadata": {
        "id": "PwyDjRk0w4df"
      },
      "outputs": [],
      "source": [
        "import numpy as np\n",
        "import pandas as pd\n",
        "from scipy.optimize import rosen, rosen_der, rosen_hess\n",
        "import time\n",
        "import matplotlib.pyplot as plt"
      ]
    },
    {
      "cell_type": "markdown",
      "source": [
        "Cette section présente plusieurs fonctions test couramment utilisées pour évaluer les algorithmes d'optimisation. Chaque fonction est accompagnée de son gradient et de sa matrice Hessienne, permettant ainsi de tester différents aspects des algorithmes d'optimisation. Les fonctions test incluent la fonction Sphere, Booth, Matyas et Rosenbrock.\n",
        "\n",
        "\n",
        "\n",
        "\n",
        "1.   **La fonction Sphere est définie par :**\n",
        "\n",
        "\\begin{equation}\n",
        "    f(\\mathbf{x}) = \\sum_{i=1}^{n} x_i^2\\,, \\quad \\mathbf{x} \\in \\mathbb{R}^n\n",
        "\\end{equation}\n",
        "\n",
        "*  *Maximum global :* $f(x_1, \\ldots, x_n) = f(0, \\ldots, 0) = 0$\n",
        "*  *Objectif :* Tester la capacité des algorithmes à converger vers l'origine et minimiser une fonction quadratique simple.\n",
        "\n",
        "\n",
        "\n",
        "2.   **La fonction Booth est définie par :**\n",
        "\n",
        "\\begin{equation}\n",
        "    f(\\mathbf{x}) = (x_1 + 2 x_2 - 7)^2 + (2 x_1 + x_2 - 5)^2\\,, \\quad \\mathbf{x} \\in \\mathbb{R}^2\n",
        "\\end{equation}\n",
        "*  *Maximum global :* $f(x_1, x_2) = f(1, 3) = 0 $.\n",
        "*  *Objectif :* Évaluer la capacité des algorithmes à gérer des fonctions quadratiques non convexes avec des points de minimum bien définis.\n",
        "\n",
        "3.   **La fonction Matyas est définie par :**\n",
        "\n",
        "\\begin{equation}\n",
        "    f(\\mathbf{x}) = 0.26 (x_1^2 + x_2^2) - 0.48 x_1 x_2\\,, \\quad \\mathbf{x} \\in \\mathbb{R}^2\n",
        "\\end{equation}\n",
        "\n",
        "*  *Maximum global :* $f(x_1, x_2) = f(0, 0) = 0 $.\n",
        "*  *Objectif :* Tester les algorithmes d'optimisation sur une fonction quadratique avec des interactions entre les variables.\n",
        "\n",
        "\n",
        "\n",
        "4.   **La fonction Rosenbrock est définie par :**\n",
        "\n",
        "\\begin{equation}\n",
        "    f(\\mathbf{x}) = \\sum_{i=1}^{n-1} [100 (x_{i+1} - x_i^2)^2 + (x_i - 1)^2]\\,, \\quad \\mathbf{x} \\in \\mathbb{R}^n\n",
        "\\end{equation}\n",
        "*  *Maximum global :* $f(x_1,\\ldots, x_n) = f(1,\\ldots, 1) = 0 $.\n",
        "*  *Objectif :*  Évaluer les algorithmes d'optimisation sur une fonction complexe avec des interactions non linéaires entre les variables.\n",
        "\n",
        "Les fonctions définies ici permettent de tester et d'évaluer les performances des algorithmes d'optimisation. Elles aident à vérifier la convergence des algorithmes vers les minima globaux et à évaluer leur capacité à gérer différentes structures de fonctions, telles que des fonctions quadratiques, des fonctions avec interactions entre variables, et des fonctions non linéaires complexes."
      ],
      "metadata": {
        "id": "OOTL0BXdOYyY"
      }
    },
    {
      "cell_type": "code",
      "execution_count": null,
      "metadata": {
        "id": "z27elwG1kXeE"
      },
      "outputs": [],
      "source": [
        "#coder les fonctions test\n",
        "\n",
        "class Sphere:\n",
        "  def __init__(self):\n",
        "    self.f = lambda x : sum([xi**2 for xi in x])\n",
        "    self.grad = lambda x : np.array([2*xi for xi in x])\n",
        "    self.hessian = lambda x: np.diag([2 for _ in range(len(x))])\n",
        "    print('le min est: [0, ..., 0] et f(x) = 0')\n",
        "\n",
        "class Booth:\n",
        "  def __init__(self):\n",
        "    self.f = lambda x : (x[0] + 2*x[1] - 7)**2 + (2*x[0] + x[1] - 5)**2\n",
        "    #self.f = lambda x, y : (x + 2*y - 7)**2 + (2*x + y - 5)**2\n",
        "    self.grad = lambda x : np.array([10*x[0] + 8*x[1] - 34, 8*x[0] + 10*x[1] - 38])\n",
        "    #self.grad = lambda x, y : np.array([10*x + 8*y - 34, 8*x + 10*xy - 38])\n",
        "    self.hessian = lambda x: np.array([[10, 8], [8, 10]])\n",
        "    print('le min est: [1, 3] et f(1, 3) = 0             -10<= x, y <= 10')\n",
        "\n",
        "\n",
        "class Matyas:\n",
        "  def __init__(self):\n",
        "    self.f = lambda x : 0.26*(x[0]**2 + x[1]**2) - 0.48*x[0]*x[1]\n",
        "    self.grad = lambda x : np.array([0.52*x[0] - 0.48*x[1], 0.52*x[1] - 0.48*x[0]])\n",
        "    self.hessian = lambda x: np.array([[0.52, -0.48], [-0.48, 0.52]])\n",
        "    print('le min est: [0, 0] et f(0, 0) = 0             -10<= x, y <= 10')\n",
        "\n",
        "\n",
        "class Rosenbrock:\n",
        "  def __init__(self):\n",
        "    #self.f = lambda x : np.sum([(1 - x[i])**2 + 100 * (x[i+1] - x[i]**2)**2 for i in range(len(x)-1)])\n",
        "    self.f = lambda x : rosen(x)\n",
        "    self.grad = lambda x : rosen_der(x)\n",
        "    self.hessian = lambda x : rosen_hess(x)\n",
        "    print('le min est: [1, ...,  1] et f(1, ...,  1) = 0')"
      ]
    },
    {
      "cell_type": "markdown",
      "source": [
        "La méthode de line search (recherche le long d'une ligne) est une stratégie d'optimisation qui consiste à choisir une direction $\\mathbf{p}_k$ à partir de l'itération actuelle $\\mathbf{x}_k$ et à rechercher un nouvel itéré ayant une valeur de fonction plus basse le long de cette direction. On définit alors un problème de minimisation unidimensionnel pour trouver la longueur de pas $\\alpha$ :\n",
        "\n",
        "\\begin{equation}\n",
        "\\min_{\\alpha > 0} f(\\mathbf{x}_k + \\alpha \\mathbf{p}_k) \\tag{1}\n",
        "\\end{equation}\n",
        "\n",
        "En résolvant (1) de manière exacte, on tirerait le maximum de bénéfice de la direction $\\mathbf{p}_k$. Toutefois, une minimisation exacte peut être coûteuse et généralement inutile. Ainsi, l'algorithme de line search génère un nombre limité de longueurs de pas d'essai jusqu'à en trouver une qui approche de manière lâche le minimum de (1). À ce nouveau point $\\mathbf{x}_{k+1}$, une nouvelle direction de recherche et une nouvelle longueur de pas sont calculées, et le processus est répété.\n",
        "\n",
        "## Algorithmes de Line Search\n",
        "\n",
        "1.  *Gradient Descendant:*\n",
        "Le gradient descendant est basé sur la direction du gradient de la fonction $f$. À chaque itération, la direction de recherche est donnée par :\n",
        "\n",
        "\\begin{equation}\n",
        "\\mathbf{p}_k = -\\nabla f(\\mathbf{x}_k),\n",
        "\\end{equation}\n",
        "\n",
        "$\\hspace{20pt}$où $\\nabla f(\\mathbf{x}_k)$ est le gradient de $f$ à $\\mathbf{x}_k$. Le but est de minimiser $f$ en se déplaçant dans la direction opposée au gradient, car c'est là que la $\\hspace{20pt}$fonction diminue le plus rapidement.\n",
        "\n",
        "\\\\\n",
        "\n",
        "2.  *Méthode de Newton:*\n",
        "La méthode de Newton utilise une approximation de la fonction objective par une série de Taylor d'ordre deux :\n",
        "\n",
        "\\begin{equation}\n",
        "f(\\mathbf{x}_k + \\mathbf{p}) \\approx f(\\mathbf{x}_k) + \\nabla f(\\mathbf{x}_k)^T \\mathbf{p} + \\frac{1}{2} \\mathbf{p}^T \\nabla^2 f(\\mathbf{x}_k) \\mathbf{p}.\n",
        "\\end{equation}\n",
        "\n",
        "$\\hspace{20pt}$En minimisant cette approximation, on obtient la direction de Newton :\n",
        "\n",
        "\\begin{equation}\n",
        "\\mathbf{p}_k = -(\\nabla^2 f(\\mathbf{x}_k))^{-1} \\nabla f(\\mathbf{x}_k),\n",
        "\\end{equation}\n",
        "\n",
        "$\\hspace{20pt}$sous l'hypothèse que la matrice Hessienne $\\nabla^2 f(\\mathbf{x}_k)$ est définie positive.\n",
        "\n",
        "\\\\\n",
        "\n",
        "3. *Méthode BFGS:*\n",
        "La méthode BFGS (Broyden-Fletcher-Goldfarb-Shanno) est une méthode quasi-Newton qui construit une approximation de la Hessienne à partir des gradients. À chaque itération, elle met à jour une matrice $\\mathbf{B}_k$ qui approxime $\\nabla^2 f(\\mathbf{x}_k)$ sans avoir à calculer la Hessienne exacte. La direction de recherche est alors :\n",
        "\n",
        "\\begin{equation}\n",
        "\\mathbf{p}_k = -\\mathbf{B}_k^{-1} \\nabla f(\\mathbf{x}_k).\n",
        "\\end{equation}\n",
        "\n",
        "\\\\\n",
        "\n",
        "\n",
        "Les méthodes de line search offrent des approches efficaces pour résoudre des problèmes d'optimisation non contraints. Le choix de la direction de recherche $\\mathbf{p}_k$ et de la longueur de pas $\\alpha_k$ est crucial pour garantir la convergence rapide vers un minimum local de la fonction $f$.\n",
        "\n",
        "\\\\\n",
        "\n",
        "## Convergence des Algorithmes:\n",
        "\n",
        "La convergence des algorithmes d'optimisation est justifiée par le théorème suivant :\n",
        "\n",
        "$\\hspace{20pt}$*Théorème:* Si $x^*$ est un minimiseur local et $f$ est continûment dérivable dans un $\\hspace{20pt}$voisinage ouvert de $x^*$, alors $\\nabla f(x^*) \\neq 0$.\n",
        "\n",
        "Ainsi, lorsque $\\|\\nabla f(\\mathbf{x}_k)\\| \\to 0$, l'algorithme s'arrête, indiquant que $\\mathbf{x}_k$ approche un minimum local."
      ],
      "metadata": {
        "id": "BibGf3TWJooe"
      }
    },
    {
      "cell_type": "code",
      "execution_count": null,
      "metadata": {
        "id": "aJduf9DKdbcy"
      },
      "outputs": [],
      "source": [
        "def algo_gradient(func, grad, x_k, epsilon, step):\n",
        "    \"\"\"\n",
        "    Algorithme de gradient pour minimiser une fonction objectif.\n",
        "\n",
        "    :param func: Fonction objectif à minimiser.\n",
        "    :param grad: Fonction qui calcule le gradient de la fonction objectif.\n",
        "    :param x_k: Point de départ.\n",
        "    :param epsilon: Critère d'arrêt pour la norme du gradient.\n",
        "    :param step: Fonction lambda ou valeur constante pour déterminer la taille du pas.\n",
        "    :return: Point final après convergence.\n",
        "    \"\"\"\n",
        "    while np.linalg.norm(grad(x_k)) > epsilon:  # Critère d'arrêt\n",
        "        pk = -grad(x_k)\n",
        "\n",
        "        if callable(step):  # Si step est une fonction lambda, on l'appelle pour obtenir alpha\n",
        "            alpha = step(x_k, pk)\n",
        "        else:  # Sinon, on utilise step comme une valeur constante\n",
        "            alpha = step\n",
        "\n",
        "        # Mise à jour du point x_k\n",
        "        x_k = x_k + alpha * pk\n",
        "    x_k = [f\"{val:.16f}\" for val in x_k]\n",
        "    return x_k\n",
        "\n",
        "\n",
        "\n",
        "def newtone(func, grad, hessian, x_k, epsilon, step):\n",
        "   \"\"\"\n",
        "    Algorithme de Newton pour minimiser une fonction objectif.\n",
        "\n",
        "    :param func: Fonction objectif à minimiser.\n",
        "    :param grad: Fonction qui calcule le gradient de la fonction objectif.\n",
        "    :param hessian: Fonction qui calcule la matrice Hessienne de la fonction objectif.\n",
        "    :param x_k: Point de départ.\n",
        "    :param epsilon: Critère d'arrêt pour la norme du gradient.\n",
        "    :param step: Fonction lambda ou valeur constante pour déterminer la taille du pas.\n",
        "    :return: Point final après convergence.\n",
        "   \"\"\"\n",
        "   while np.linalg.norm(grad(x_k)) >  epsilon: #critere d'arret\n",
        "     pk = -np.linalg.inv(hessian(x_k))@grad(x_k)\n",
        "\n",
        "     if callable(step):  # Si step est une fonction lambda, on l'appelle pour obtenir alpha\n",
        "        alpha = step(x_k, pk)\n",
        "     else:  # Sinon, on utilise step comme une valeur constante\n",
        "        alpha = step\n",
        "\n",
        "     #3nouvelle itéré\n",
        "     x_k = x_k + alpha * pk\n",
        "\n",
        "   x_k = [f\"{val:.16f}\" for val in x_k]\n",
        "   return x_k\n",
        "\n",
        "\n",
        "\n",
        "def bfgs(func, grad, x_k, epsilon, step):\n",
        "   \"\"\"\n",
        "    Algorithme BFGS pour minimiser une fonction objectif.\n",
        "\n",
        "    :param func: Fonction objectif à minimiser.\n",
        "    :param grad: Fonction qui calcule le gradient de la fonction objectif.\n",
        "    :param x_k: Point de départ.\n",
        "    :param epsilon: Critère d'arrêt pour la norme du gradient.\n",
        "    :param step: Fonction lambda ou valeur constante pour déterminer la taille du pas.\n",
        "    :return: Point final après convergence.\n",
        "   \"\"\"\n",
        "   #initialisation de l'approximation de la matrice hessian\n",
        "   b_k = np.eye(len(x_k))\n",
        "\n",
        "   while np.linalg.norm(grad(x_k)) >  epsilon: #critere d'arret\n",
        "     pk = np.dot(np.linalg.inv(b_k), grad(x_k)) #vecteur directionnel\n",
        "     if callable(step):  # Si step est une fonction lambda, on l'appelle pour obtenir alpha\n",
        "        alpha = step(x_k, pk)\n",
        "     else:  # Sinon, on utilise step comme une valeur constante\n",
        "        alpha = step\n",
        "\n",
        "     #1) nouvelle itéré\n",
        "     x_kplus1 = x_k - alpha * pk\n",
        "\n",
        "     #update matrice bk\n",
        "     y_k = grad(x_kplus1) - grad(x_k)\n",
        "     s_k = x_kplus1 - x_k\n",
        "     s_k = s_k[:, np.newaxis]  # (n, 1)\n",
        "     y_k = y_k[:, np.newaxis]  # (n, 1)\n",
        "\n",
        "\n",
        "     b_k = b_k  -  (b_k @ s_k @ s_k.T @ b_k) / (s_k.T @ b_k @ s_k)  +  np.dot(y_k, y_k.T) / (y_k.T @ s_k)\n",
        "     #reinitialisation de x_k\n",
        "     x_k = x_kplus1\n",
        "\n",
        "   x_k = [f\"{val:.16f}\" for val in x_k]\n",
        "   return x_k\n"
      ]
    },
    {
      "cell_type": "markdown",
      "source": [
        "# algo gradient , newtone et bfgs test"
      ],
      "metadata": {
        "id": "9ldtd5SAfejo"
      }
    },
    {
      "cell_type": "code",
      "execution_count": null,
      "metadata": {
        "colab": {
          "base_uri": "https://localhost:8080/"
        },
        "id": "X_fUS8xtnkJO",
        "outputId": "6c7aaf19-80fc-4d5e-9e3a-1307d83c188d"
      },
      "outputs": [
        {
          "output_type": "stream",
          "name": "stdout",
          "text": [
            "le min est: [0, ..., 0] et f(x) = 0\n",
            "fonction sphere\n",
            "Résultat final: ['0.0000000000003553', '0.0000000000355271', '0.0000000000000107', '0.0000000000000036', '0.0000000000000178']\n",
            "\n",
            " \n",
            " \n",
            "\n",
            "le min est: [1, 3] et f(1, 3) = 0             -10<= x, y <= 10\n",
            "fonction booth\n",
            "Résultat final: ['1.0000000000039173', '3.0000000000039213']\n",
            "\n",
            " \n",
            " \n",
            "\n",
            "le min est: [0, 0] et f(0, 0) = 0             -10<= x, y <= 10\n",
            "fonction matyas\n",
            "Résultat final: ['0.0000000017658246', '0.0000000017658246']\n",
            "\n",
            " \n",
            " \n",
            "\n",
            "le min est: [1, ...,  1] et f(1, ...,  1) = 0\n",
            "fonction rosenbrock\n",
            "Résultat final: ['0.9999999999542477', '0.9999999999083210', '0.9999999998162055']\n",
            "Time = 17.40215301513672\n"
          ]
        }
      ],
      "source": [
        "epsilon = 1e-10\n",
        "\n",
        "\n",
        "sphere = Sphere()\n",
        "x_0 = np.array([100, 10000, 3.0, 1, 5])\n",
        "algo_grad = algo_gradient(sphere.f, sphere.grad, x_0, epsilon, 0.25)\n",
        "print('fonction sphere')\n",
        "print(\"Résultat final:\", algo_grad)\n",
        "print('\\n \\n \\n')\n",
        "\n",
        "\n",
        "x_0 = np.array([2, 4])\n",
        "booth = Booth()\n",
        "grad_booth = algo_gradient(booth.f, booth.grad, x_0, epsilon, 0.001)\n",
        "print('fonction booth')\n",
        "print(\"Résultat final:\", grad_booth)\n",
        "print('\\n \\n \\n')\n",
        "\n",
        "\n",
        "matyas = Matyas()\n",
        "grad_matyas = algo_gradient(matyas.f, matyas.grad, x_0, epsilon,0.05)\n",
        "print('fonction matyas')\n",
        "print(\"Résultat final:\", grad_matyas)\n",
        "print('\\n \\n \\n')\n",
        "\n",
        "\n",
        "x_0 = np.array([3, 3, 3])\n",
        "rosenbrock = Rosenbrock()\n",
        "t0 = time.time()\n",
        "min = algo_gradient(rosenbrock.f, rosenbrock.grad, x_0, epsilon, 0.00055)\n",
        "t1 = time.time()\n",
        "print('fonction rosenbrock')\n",
        "print(\"Résultat final:\", min)\n",
        "print(f\"Time = {t1 - t0}\")\n"
      ]
    },
    {
      "cell_type": "code",
      "source": [
        "sphere = Sphere()\n",
        "x_0 = np.array([1.0, 2.0, 3.0, 1, 5])\n",
        "min = newtone(sphere.f, sphere.grad, sphere.hessian, x_0, epsilon, 1)\n",
        "print('fonction sphere')\n",
        "print(\"Résultat final:\", min)\n",
        "print('\\n \\n \\n')\n",
        "\n",
        "\n",
        "x_0 = np.array([2, 4])\n",
        "booth = Booth()\n",
        "min = newtone(booth.f, booth.grad, booth.hessian, x_0, epsilon, 1)\n",
        "print('fonction booth')\n",
        "print(\"Résultat final:\", min)\n",
        "print('\\n \\n \\n')\n",
        "\n",
        "\n",
        "matyas = Matyas()\n",
        "min = newtone(matyas.f, matyas.grad, matyas.hessian, x_0, epsilon, 1)\n",
        "print('fonction matyas')\n",
        "print(\"Résultat final:\", min)\n",
        "print('\\n \\n \\n')\n",
        "\n",
        "\n",
        "x_0 = np.array([2, 3])\n",
        "rosenbrock = Rosenbrock()\n",
        "min = newtone(rosenbrock.f, rosenbrock.grad, rosenbrock.hessian, x_0, epsilon, 1)\n",
        "print('fonction rosenbrock')\n",
        "print(\"Résultat final:\", min)\n"
      ],
      "metadata": {
        "colab": {
          "base_uri": "https://localhost:8080/"
        },
        "id": "I-FHJyS6Ch-B",
        "outputId": "f8194d67-e39f-4527-f99a-d86f46373a27"
      },
      "execution_count": null,
      "outputs": [
        {
          "output_type": "stream",
          "name": "stdout",
          "text": [
            "le min est: [0, ..., 0] et f(x) = 0\n",
            "fonction sphere\n",
            "Résultat final: ['0.0000000000000000', '0.0000000000000000', '0.0000000000000000', '0.0000000000000000', '0.0000000000000000']\n",
            "\n",
            " \n",
            " \n",
            "\n",
            "le min est: [1, 3] et f(1, 3) = 0             -10<= x, y <= 10\n",
            "fonction booth\n",
            "Résultat final: ['0.9999999999999998', '3.0000000000000000']\n",
            "\n",
            " \n",
            " \n",
            "\n",
            "le min est: [0, 0] et f(0, 0) = 0             -10<= x, y <= 10\n",
            "fonction matyas\n",
            "Résultat final: ['0.0000000000000016', '0.0000000000000022']\n",
            "\n",
            " \n",
            " \n",
            "\n",
            "le min est: [1, ...,  1] et f(1, ...,  1) = 0\n",
            "fonction rosenbrock\n",
            "Résultat final: ['1.0000000000028562', '1.0000000000057121']\n"
          ]
        }
      ]
    },
    {
      "cell_type": "code",
      "source": [
        "\n",
        "sphere = Sphere()\n",
        "x_0 = np.array([1.0, 2.0, 3.0, 1, 5])\n",
        "min = bfgs(sphere.f, sphere.grad, x_0, epsilon, 1)\n",
        "print('fonction sphere')\n",
        "print(\"Résultat final:\", min)\n",
        "print('\\n \\n \\n')\n",
        "\n",
        "\n",
        "x_0 = np.array([2, 4])\n",
        "booth = Booth()\n",
        "min = bfgs(booth.f, booth.grad, x_0, epsilon, 1)\n",
        "print('fonction booth')\n",
        "print(\"Résultat final:\", min)\n",
        "print('\\n \\n \\n')\n",
        "\n",
        "\n",
        "matyas = Matyas()\n",
        "min = bfgs(matyas.f, matyas.grad, x_0, epsilon, 1)\n",
        "print('fonction matyas')\n",
        "print(\"Résultat final:\", min)\n",
        "print('\\n \\n \\n')\n",
        "\n",
        "\n",
        "\n",
        "x_0 = np.array([2, 3])\n",
        "rosenbrock = Rosenbrock()\n",
        "min = bfgs(rosenbrock.f, rosenbrock.grad, x_0, epsilon, 1)\n",
        "print('fonction rosenbrock')\n",
        "print(\"Résultat final:\", min)\n",
        "\n"
      ],
      "metadata": {
        "colab": {
          "base_uri": "https://localhost:8080/"
        },
        "id": "KsxrjpKFgh8J",
        "outputId": "6365252e-cda3-4f2d-80c3-5f62f45b77e7"
      },
      "execution_count": null,
      "outputs": [
        {
          "output_type": "stream",
          "name": "stdout",
          "text": [
            "le min est: [0, ..., 0] et f(x) = 0\n",
            "fonction sphere\n",
            "Résultat final: ['0.0000000000000002', '0.0000000000000004', '-0.0000000000000004', '0.0000000000000000', '0.0000000000000000']\n",
            "\n",
            " \n",
            " \n",
            "\n",
            "le min est: [1, 3] et f(1, 3) = 0             -10<= x, y <= 10\n",
            "fonction booth\n",
            "Résultat final: ['0.9999999999999858', '3.0000000000000142']\n",
            "\n",
            " \n",
            " \n",
            "\n",
            "le min est: [0, 0] et f(0, 0) = 0             -10<= x, y <= 10\n",
            "fonction matyas\n",
            "Résultat final: ['0.0000000000008312', '0.0000000000011101']\n",
            "\n",
            " \n",
            " \n",
            "\n",
            "le min est: [1, ...,  1] et f(1, ...,  1) = 0\n",
            "fonction rosenbrock\n",
            "Résultat final: ['0.9999999999997330', '0.9999999999994632']\n"
          ]
        }
      ]
    },
    {
      "cell_type": "code",
      "source": [],
      "metadata": {
        "id": "VUyq65sompBH"
      },
      "execution_count": null,
      "outputs": []
    },
    {
      "cell_type": "markdown",
      "source": [
        "# conditions de wolfe\n"
      ],
      "metadata": {
        "id": "SaS78X5YOU1j"
      }
    },
    {
      "cell_type": "code",
      "source": [
        "class Wolf:\n",
        "    def __init__(self, f, grad, alpha_max=1.0, c1=1e-4, c2=0.9):\n",
        "        \"\"\"\n",
        "        Initialisation de la classe pour la recherche de ligne avec rétrogradation utilisant les conditions de Wolfe.\n",
        "\n",
        "        :param f: Fonction objectif à minimiser.\n",
        "        :param grad: Fonction qui calcule le gradient de la fonction objectif.\n",
        "        :param alpha_max: Valeur initiale de α.\n",
        "        :param c1: Paramètre pour la condition d'Armijo (condition de suffisance de la diminution).\n",
        "        :param c2: Paramètre pour la condition de Wolfe (condition de courbure).\n",
        "        \"\"\"\n",
        "        self.f = f\n",
        "        self.grad = grad\n",
        "        self.alpha_max = alpha_max\n",
        "        self.c1 = c1\n",
        "        self.c2 = c2\n",
        "\n",
        "        if (c2 < c1) or (c1 <= 0) or (alpha_max <= 0):\n",
        "            raise ValueError('Les conditions 0 < c1 < c2 < 1 ne sont pas respectées ou alpha_max est inférieur ou égal à zéro.')\n",
        "\n",
        "    def backtracking(self, xk, pk, rho=0.5):\n",
        "        \"\"\"\n",
        "        Calcule la taille du pas α en utilisant la méthode de recherche de ligne avec rétrogradation.\n",
        "\n",
        "        :param xk: Point actuel.\n",
        "        :param pk: Direction de descente.\n",
        "        :param rho: Facteur de réduction pour la rétrogradation.\n",
        "        :return: Taille du pas α.\n",
        "        \"\"\"\n",
        "        alpha = self.alpha_max\n",
        "        while self.f(xk + alpha * pk) > self.f(xk) + self.c1 * alpha * np.dot(self.grad(xk), pk):\n",
        "            alpha = alpha * rho\n",
        "        return alpha\n",
        "\n",
        "    def interpolation(self, xk, pk):\n",
        "        \"\"\"\n",
        "        Calcule la taille du pas α en utilisant la méthode d'interpolation pour satisfaire les conditions de Wolfe.\n",
        "\n",
        "        :param xk: Point actuel.\n",
        "        :param pk: Direction de descente.\n",
        "        :return: Taille du pas α.\n",
        "        \"\"\"\n",
        "        if (self.c2 < self.c1) or (self.c1 <= 0) or (self.alpha_max <= 0):\n",
        "            raise ValueError('Les conditions 0 < c1 < c2 < 1 ne sont pas respectées ou alpha_max est inférieur ou égal à zéro.')\n",
        "\n",
        "        # Suite de α\n",
        "        alpha = np.linspace(1e-16, self.alpha_max, 10)\n",
        "\n",
        "        # Définition de la fonction phi(α) et sa dérivée\n",
        "        phi = lambda alpha: self.f(xk + alpha * pk)\n",
        "        d_phi = lambda alpha: np.dot(self.grad(xk + alpha * pk), pk)\n",
        "\n",
        "        phi_0 = phi(0)\n",
        "        d_phi_0 = d_phi(0)\n",
        "\n",
        "        def zoom(alpha_lo, alpha_hi):\n",
        "            \"\"\"Recherche dans un intervalle plus petit en satisfaisant les conditions de Wolfe.\"\"\"\n",
        "            while True:\n",
        "                alpha_j = (alpha_hi + alpha_lo) / 2\n",
        "                if (phi(alpha_j) > phi_0 + self.c1 * alpha_j * d_phi_0) or (phi(alpha_j) >= phi(alpha_lo)):\n",
        "                    alpha_hi = alpha_j\n",
        "                    if abs(alpha_hi - alpha_lo) < 1e-8:\n",
        "                        return (alpha_hi + alpha_lo) / 2\n",
        "                else:\n",
        "                    d_phi_j = d_phi(alpha_j)\n",
        "                    if abs(d_phi_j) <= -self.c2 * d_phi_0:\n",
        "                        return alpha_j\n",
        "                    if d_phi_j * (alpha_hi - alpha_lo) >= 0:\n",
        "                        alpha_hi = alpha_lo\n",
        "                    alpha_lo = alpha_j\n",
        "\n",
        "        # Boucle pour vérifier si alpha respecte les conditions de Wolfe\n",
        "        for i in range(len(alpha)):\n",
        "            if (phi(alpha[i]) > phi_0 + self.c1 * alpha[i] * d_phi_0) or (i > 1 and phi(alpha[i]) >= phi(alpha[i - 1])):\n",
        "                return zoom(alpha[i - 1], alpha[i])\n",
        "            if abs(d_phi(alpha[i])) <= -self.c2 * d_phi_0:\n",
        "                return alpha[i]\n",
        "            if d_phi(alpha[i]) >= 0:\n",
        "                return zoom(alpha[i], alpha[i - 1])\n",
        "\n",
        "        return 1  # Si aucun autre alpha n'est trouvé, on retourne 1"
      ],
      "metadata": {
        "id": "NtD4wNqln4dJ"
      },
      "execution_count": null,
      "outputs": []
    },
    {
      "cell_type": "markdown",
      "source": [
        "Algo backtracking"
      ],
      "metadata": {
        "id": "4aMdkfsQn1xK"
      }
    },
    {
      "cell_type": "code",
      "source": [
        "\n",
        "epsilon = 1e-10\n",
        "\n",
        "# Fonction Sphere\n",
        "sphere = Sphere()\n",
        "x_0 = np.array([100, 100, 100.0, 100, 100])\n",
        "wolf_sphere = Wolf(sphere.f, sphere.grad, alpha_max=1.0, c1=1e-4, c2=0.9)\n",
        "step_sphere = lambda xk, pk: wolf_sphere.backtracking(xk, pk)\n",
        "algo_grad_sphere = algo_gradient(sphere.f, sphere.grad, x_0, epsilon, step_sphere)\n",
        "print('Fonction Sphere')\n",
        "print(\"Résultat final:\", algo_grad_sphere)\n",
        "print('\\n \\n \\n')\n",
        "\n",
        "# Fonction Sphere\n",
        "sphere = Sphere()\n",
        "x_0 = np.array([100, 100, 100.0, 100, 100])\n",
        "wolf_sphere = Wolf(sphere.f, sphere.grad, alpha_max=1.0, c1=1e-4, c2=0.9)\n",
        "step_sphere = lambda xk, pk: wolf_sphere.backtracking(xk, pk)\n",
        "algo_grad_sphere = newtone(sphere.f, sphere.grad, sphere.hessian, x_0, epsilon, step_sphere)\n",
        "print('Fonction Sphere')\n",
        "print(\"Résultat final:\", algo_grad_sphere)\n",
        "print('\\n \\n \\n')\n",
        "\n",
        "# Fonction Booth\n",
        "x_0 = np.array([2, 4])\n",
        "booth = Booth()\n",
        "wolf_booth = Wolf(booth.f, booth.grad, alpha_max=1.0, c1=1e-4, c2=0.9)\n",
        "step_booth = lambda xk, pk: wolf_booth.backtracking(xk, pk)\n",
        "grad_booth = algo_gradient(booth.f, booth.grad, x_0, epsilon, step_booth)\n",
        "print('Fonction Booth')\n",
        "print(\"Résultat final:\", grad_booth)\n",
        "print('\\n \\n \\n')\n",
        "\n",
        "# Fonction Matyas\n",
        "x_0 = np.array([2, 3])\n",
        "matyas = Matyas()\n",
        "wolf_matyas = Wolf(matyas.f, matyas.grad, alpha_max=1, c1=1e-4, c2=0.9)\n",
        "step_matyas = lambda xk, pk: wolf_matyas.backtracking(xk, pk)\n",
        "grad_matyas = algo_gradient(matyas.f, matyas.grad, x_0, epsilon, step_matyas)\n",
        "print('Fonction Matyas')\n",
        "print(\"Résultat final:\", grad_matyas)\n",
        "print('\\n \\n \\n')\n",
        "\n",
        "# Fonction Rosenbrock\n",
        "x_0 = np.array([10, 10, 10])\n",
        "rosenbrock = Rosenbrock()\n",
        "wolf_rosenbrock = Wolf(rosenbrock.f, rosenbrock.grad, alpha_max=0.0005, c1=1e-4, c2=0.9)\n",
        "step_rosenbrock = lambda xk, pk: wolf_rosenbrock.backtracking(xk, pk)\n",
        "t0 = time.time()\n",
        "min_rosenbrock = algo_gradient(rosenbrock.f, rosenbrock.grad, x_0, epsilon, step_rosenbrock)\n",
        "t1 = time.time()\n",
        "print('Fonction Rosenbrock')\n",
        "print(\"Résultat final:\", min_rosenbrock)\n",
        "print(f\"Time = {t1 - t0}\")\n",
        "\n"
      ],
      "metadata": {
        "colab": {
          "base_uri": "https://localhost:8080/"
        },
        "id": "SiqD6F4yOY1V",
        "outputId": "1d821cf4-a157-4abc-f305-a179addcf2a7"
      },
      "execution_count": null,
      "outputs": [
        {
          "output_type": "stream",
          "name": "stdout",
          "text": [
            "le min est: [0, ..., 0] et f(x) = 0\n",
            "Fonction Sphere\n",
            "Résultat final: ['0.0000000000000000', '0.0000000000000000', '0.0000000000000000', '0.0000000000000000', '0.0000000000000000']\n",
            "\n",
            " \n",
            " \n",
            "\n",
            "le min est: [0, ..., 0] et f(x) = 0\n",
            "Fonction Sphere\n",
            "Résultat final: ['0.0000000000000000', '0.0000000000000000', '0.0000000000000000', '0.0000000000000000', '0.0000000000000000']\n",
            "\n",
            " \n",
            " \n",
            "\n",
            "le min est: [1, 3] et f(1, 3) = 0             -10<= x, y <= 10\n",
            "Fonction Booth\n",
            "Résultat final: ['0.9999999999981810', '2.9999999999981810']\n",
            "\n",
            " \n",
            " \n",
            "\n",
            "le min est: [0, 0] et f(0, 0) = 0             -10<= x, y <= 10\n",
            "Fonction Matyas\n",
            "Résultat final: ['0.0000000017067405', '0.0000000017067405']\n",
            "\n",
            " \n",
            " \n",
            "\n",
            "le min est: [1, ...,  1] et f(1, ...,  1) = 0\n",
            "Fonction Rosenbrock\n",
            "Résultat final: ['0.9999999999542472', '0.9999999999083199', '0.9999999998162032']\n",
            "Time = 15.012542486190796\n"
          ]
        }
      ]
    },
    {
      "cell_type": "markdown",
      "source": [
        "Conditions de wolf par interpolation"
      ],
      "metadata": {
        "id": "YNvAQj1vnmUq"
      }
    },
    {
      "cell_type": "code",
      "source": [
        "epsilon = 1e-10\n",
        "\n",
        "\n",
        "\n",
        "# Fonction Sphere\n",
        "sphere = Sphere()\n",
        "x_0 = np.array([3, 2.0, 3.0, 1, 5])\n",
        "step_sphere = lambda xk, pk: wolf_sphere.interpolation(xk, pk)\n",
        "algo_grad_sphere = newtone(sphere.f, sphere.grad, sphere.hessian, x_0, epsilon, step_sphere)\n",
        "print('Fonction Sphere')\n",
        "print(\"Résultat final:\", algo_grad_sphere)\n",
        "print('\\n \\n ')\n",
        "\n",
        "\n",
        "# Fonction Booth\n",
        "x_0 = np.array([2, 4])\n",
        "booth = Booth()\n",
        "step_booth = lambda xk, pk: wolf_booth.interpolation(xk, pk)\n",
        "grad_booth = algo_gradient(booth.f, booth.grad, x_0, epsilon, step_booth)\n",
        "print('Fonction Booth')\n",
        "print(\"Résultat final:\", grad_booth)\n",
        "print('\\n \\n \\n')\n",
        "\n",
        "# Fonction Matyas\n",
        "x_0 = np.array([2, 3])\n",
        "matyas = Matyas()\n",
        "step_matyas = lambda xk, pk: wolf_matyas.interpolation(xk, pk)\n",
        "grad_matyas = algo_gradient(matyas.f, matyas.grad, x_0, epsilon, step_matyas)\n",
        "print('Fonction Matyas')\n",
        "print(\"Résultat final:\", grad_matyas)\n",
        "print('\\n \\n \\n')\n",
        "\n",
        "# Fonction Rosenbrock\n",
        "x_0 = np.array([3, 3, 3])\n",
        "rosenbrock = Rosenbrock()\n",
        "step_rosenbrock = lambda xk, pk: wolf_rosenbrock.interpolation(xk, pk)\n",
        "t0 = time.time()\n",
        "min_rosenbrock = algo_gradient(rosenbrock.f, rosenbrock.grad, x_0, epsilon, step_rosenbrock)\n",
        "t1 = time.time()\n",
        "print('Fonction Rosenbrock')\n",
        "print(\"Résultat final:\", min_rosenbrock)\n",
        "print(f\"Time = {t1 - t0}\")\n"
      ],
      "metadata": {
        "id": "RdZYUTO03LyR",
        "colab": {
          "base_uri": "https://localhost:8080/"
        },
        "outputId": "186811b4-c214-417c-8b47-df5748bffa8f"
      },
      "execution_count": null,
      "outputs": [
        {
          "output_type": "stream",
          "name": "stdout",
          "text": [
            "le min est: [0, ..., 0] et f(x) = 0\n",
            "Fonction Sphere\n",
            "Résultat final: ['0.0000000000211773', '0.0000000000141182', '0.0000000000211773', '0.0000000000070591', '0.0000000000352956']\n",
            "\n",
            " \n",
            " \n",
            "le min est: [1, 3] et f(1, 3) = 0             -10<= x, y <= 10\n",
            "Fonction Booth\n",
            "Résultat final: ['0.9999999999999982', '2.9999999999999982']\n",
            "\n",
            " \n",
            " \n",
            "\n",
            "le min est: [0, 0] et f(0, 0) = 0             -10<= x, y <= 10\n",
            "Fonction Matyas\n",
            "Résultat final: ['0.0000000017647207', '0.0000000017647207']\n",
            "\n",
            " \n",
            " \n",
            "\n",
            "le min est: [1, ...,  1] et f(1, ...,  1) = 0\n",
            "Fonction Rosenbrock\n",
            "Résultat final: ['1.0000000000256468', '1.0000000000512284', '1.0000000001025378']\n",
            "Time = 1.2098114490509033\n"
          ]
        }
      ]
    },
    {
      "cell_type": "markdown",
      "source": [
        "# Derivative-Free Optimization algo"
      ],
      "metadata": {
        "id": "Ak91EktIgMK1"
      }
    },
    {
      "cell_type": "markdown",
      "source": [
        "L'algorithme optimise une fonction $f(x)$ sans nécessiter de dérivées. À chaque itération, il évalue $f$ dans plusieurs directions $p \\in D_k$ autour du point courant $x_k$, en utilisant un pas $\\gamma_k$.\n",
        "\n",
        "\n",
        "1.   *Initialisation:*\n",
        "*   Choisir $x_0$, $\\gamma_0$, et un ensemble de directions $D_0$.\n",
        "\n",
        "\n",
        "2.   *Évaluation des points candidats:*\n",
        "*    Pour chaque $p \\in D_k$, calculer $x_k + \\gamma_k p$.\n",
        "*     Si $f(x_k + \\gamma_k p) < f(x_k) - \\rho(\\gamma_k)$, adopter  $x_{k+1} = x_k + \\gamma_k p$ et éventuellement augmenter $\\gamma_k$.\n",
        "\n",
        "\n",
        "3.   *Réduction du pas:*\n",
        "*    Si aucune direction ne diminue suffisamment $f$, réduire $\\gamma_k$ en le multipliant par $\\theta_k$ avec $0 < \\theta_k < 1$.\n",
        "\n",
        "\n",
        "4.   *Arrêt:*\n",
        "*    L'algorithme s'arrête lorsque $\\gamma_k < \\gamma_{\\text{tol}}$.\n",
        "\n",
        "\n",
        "**Conditions pour la validité:**\n",
        "\n",
        "*    *Direction de descente:* Il existe $p \\in D_k$ tel que\n",
        "\\begin{equation}\n",
        "\\cos\\theta = \\frac{- \\nabla f_k^T p}{\\|\\nabla f_k\\|\\|p\\|} > \\delta.\n",
        "\\end{equation}\n",
        "\n",
        "*    *Longueur des directions:*\n",
        "\\begin{equation}\n",
        "\\exists \\, \\beta_{\\text{min}}, \\beta_{\\text{max}} > 0, \\quad\n",
        "\\beta_{\\text{min}} \\leq \\|p\\| \\leq \\beta_{\\text{max}}, \\quad \\forall p \\in D_k.\n",
        "\\end{equation}\n",
        "\n",
        "*    *Diminution suffisante:*\n",
        "\\begin{equation}\n",
        "f(x_k + \\gamma_k p) < f(x_k) - \\rho(\\gamma_k), \\quad avec \\quad \\frac{\\rho(t)}{t} \\to 0 \\quad \\text{lorsque} \\quad t \\to 0\n",
        "\\end{equation}\n",
        "\\begin{equation}\n",
        "\\frac{\\rho(t)}{t} \\to 0 \\quad \\text{lorsque} \\quad t \\to 0.\n",
        "\\end{equation}\n"
      ],
      "metadata": {
        "id": "UMy_5-44JGwB"
      }
    },
    {
      "cell_type": "code",
      "source": [
        "#pattern search\n",
        "def set(n):\n",
        "  D = np.vstack([np.eye(n), -np.eye(n)])\n",
        "  return D\n",
        "\n",
        "\n",
        "def pattern_search(f, x_0, nombre_iteration):\n",
        "  \"\"\"\n",
        "    Algorithme de recherche par patron pour minimiser une fonction sans dérivées.\n",
        "\n",
        "    :param f: Fonction objectif à minimiser.\n",
        "    :param x_0: Point de départ pour la recherche.\n",
        "    :param nombre_iteration: Nombre maximum d'itérations à effectuer.\n",
        "    :return: Point final après convergence, formaté avec 16 décimales.\n",
        "  \"\"\"\n",
        "  gamma_min = 1e-8\n",
        "  theta_max = 0.5\n",
        "  rho = lambda t : 1e-4 * t**(3/2)\n",
        "\n",
        "  gamma = 1\n",
        "  D = set(len(x_0))\n",
        "  iteration = 0\n",
        "  while (gamma > gamma_min) and (iteration < nombre_iteration):\n",
        "    xk = False\n",
        "    for pk in D:\n",
        "\n",
        "      if (f(x_0 - gamma*pk) < (f(x_0) - rho(gamma))):\n",
        "        xk = True\n",
        "        x_0 = x_0 - gamma*pk\n",
        "        gamma *= 1.1\n",
        "\n",
        "    if not xk:\n",
        "      gamma *= theta_max\n",
        "    iteration += 1\n",
        "\n",
        "  print(f\"Le nombre d'itération : {iteration}\")\n",
        "  x_0 = [f\"{val:.16f}\" for val in x_0]\n",
        "  return x_0"
      ],
      "metadata": {
        "id": "4ZMdDgV0y3sO"
      },
      "execution_count": null,
      "outputs": []
    },
    {
      "cell_type": "code",
      "source": [
        "# Fonction Sphere\n",
        "sphere = Sphere()\n",
        "x_0 = np.array([100, 100, 100.0, 100, 100])\n",
        "min = pattern_search(sphere.f, x_0, 10000)\n",
        "print('Fonction Sphere')\n",
        "print(\"Résultat final:\", min)\n",
        "print('\\n \\n \\n')\n",
        "\n",
        "\n",
        "x_0 = np.array([-2000, 1000])\n",
        "booth = Booth()\n",
        "min = pattern_search(booth.f, x_0, 10000)\n",
        "print('fonction booth')\n",
        "print(\"Résultat final:\", min)\n",
        "print('\\n \\n ')\n",
        "\n",
        "\n",
        "# Fonction Matyas\n",
        "x_0 = np.array([2, 3])\n",
        "matyas = Matyas()\n",
        "min = pattern_search(matyas.f, x_0, 10000)\n",
        "print('Fonction Matyas')\n",
        "print(\"Résultat final:\", min)\n",
        "print('\\n \\n \\n')\n",
        "\n",
        "# Fonction Rosenbrock\n",
        "x_0 = np.array([10, 10, 10])\n",
        "rosenbrock = Rosenbrock()\n",
        "min = pattern_search(rosenbrock.f, x_0, 20000)\n",
        "print('Fonction Rosenbrock')\n",
        "print(\"Résultat final:\", min)"
      ],
      "metadata": {
        "colab": {
          "base_uri": "https://localhost:8080/"
        },
        "id": "cHpkPoetlolO",
        "outputId": "12efe105-e9c4-41e4-a6e5-1291ee623efc"
      },
      "execution_count": null,
      "outputs": [
        {
          "output_type": "stream",
          "name": "stdout",
          "text": [
            "le min est: [0, ..., 0] et f(x) = 0\n",
            "Le nombre d'itération : 108\n",
            "Fonction Sphere\n",
            "Résultat final: ['-0.0000000144830664', '0.0000000115175886', '-0.0000000101728452', '0.0000000040777529', '0.0000000023947263']\n",
            "\n",
            " \n",
            " \n",
            "\n",
            "le min est: [1, 3] et f(1, 3) = 0             -10<= x, y <= 10\n",
            "Le nombre d'itération : 111\n",
            "fonction booth\n",
            "Résultat final: ['0.9999999830101313', '3.0000000143651491']\n",
            "\n",
            " \n",
            " \n",
            "le min est: [0, 0] et f(0, 0) = 0             -10<= x, y <= 10\n",
            "Le nombre d'itération : 123\n",
            "Fonction Matyas\n",
            "Résultat final: ['-0.0000004136703338', '-0.0000004143705779']\n",
            "\n",
            " \n",
            " \n",
            "\n",
            "le min est: [1, ...,  1] et f(1, ...,  1) = 0\n",
            "Le nombre d'itération : 11780\n",
            "Fonction Rosenbrock\n",
            "Résultat final: ['0.9999977656881633', '0.9999955338773080', '0.9999910642263564']\n"
          ]
        }
      ]
    },
    {
      "cell_type": "code",
      "source": [],
      "metadata": {
        "id": "dzKqDTp0Tka7"
      },
      "execution_count": null,
      "outputs": []
    },
    {
      "cell_type": "markdown",
      "source": [
        "# least squares"
      ],
      "metadata": {
        "id": "4pYgxl1qiCKs"
      }
    },
    {
      "cell_type": "markdown",
      "source": [
        "Dans les problèmes de moindres carrés, la fonction objectif $ f(x) $ est définie comme suit :\n",
        "\n",
        "\\begin{equation}\n",
        "f(x) = \\frac{1}{2} \\sum_{j=1}^{m} r_j^2(x)\n",
        "\\end{equation}\n",
        "\n",
        "où chaque $ r_j(x) $ est un résidu lisse de $ r_j : \\mathbb{R}^n \\to \\mathbb{R} $, formant ainsi un vecteur de résidus $ r(x) = (r_1(x), \\dots, r_m(x))^T $.\n",
        "\n",
        "On peut réécrire $ f(x) $ sous la forme :\n",
        "\n",
        "\\begin{equation}\n",
        "f(x) = \\frac{1}{2} \\| r(x) \\|_2^2\n",
        "\\end{equation}\n",
        "\n",
        "Le gradient et la Hessienne de $ f $ se calculent respectivement par :\n",
        "\n",
        "$$ \\nabla f(x) = J(x)^T r(x), \\quad \\nabla^2 f(x) = J(x)^T J(x) + \\sum_{j=1}^{m} r_j(x) \\nabla^2 r_j(x) $$\n",
        "\n",
        "où $ J(x) $ est la matrice jacobienne des résidus, composée des dérivées partielles $ \\frac{\\partial r_j(x)}{\\partial x_i} $.Pour les least squares non linéaire, la méthode de Gauss-Newton exploite la structure de $ f(x) $, négligeant le second terme de la Hessienne $ \\sum_{j=1}^{m} r_j(x) \\nabla^2 r_j(x) $ lorsque les résidus sont petits ou quasi-affines. Ainsi, l'approximation de la Hessienne devient $ J(x)^T J(x) $.\n",
        "\n",
        "Dans cette méthode, le pas de descente est obtenu en résolvant le système linéaire :\n",
        "\n",
        "\\begin{equation}\n",
        "J(x_k)^T J(x_k) p_k = -J(x_k)^T r(x_k)\n",
        "\\end{equation}\n",
        "\n",
        "Le critère de recherche linéaire est basé sur les conditions de Wolfe, avec un ajustement du pas $ \\alpha_k $ via le backtracking.\n",
        "\n",
        "La résolution itérative des moindres carrés utilise efficacement cette simplification de la Hessienne, accélérant la convergence dans les problèmes où les résidus sont proches de zéro.\n"
      ],
      "metadata": {
        "id": "ZpgF5HmCByDU"
      }
    },
    {
      "cell_type": "code",
      "source": [
        "import autograd.numpy as np\n",
        "from autograd import jacobian\n",
        "from scipy.linalg import cholesky, solve_triangular\n",
        "\n",
        "\n",
        "\n",
        "def gauss_newtone(r, j, x_0):\n",
        "  \"\"\"\n",
        "    Algorithme de Gauss-Newton pour minimiser une fonction de moindres carrés.\n",
        "\n",
        "    :param r: Fonction résiduelle, correspondant à la différence entre les prédictions du modèle et les données observées.\n",
        "    :param j: Jacobienne de la fonction résiduelle, utilisée pour le calcul du gradient.\n",
        "    :param x_0: Point de départ pour la minimisation (vecteur initial des paramètres du modèle).\n",
        "\n",
        "    :return: Solution optimisée après convergence, les paramètres qui minimisent la somme des carrés des résidus.\n",
        "  \"\"\"\n",
        "  grad_f_x0 = j(x_0).T @ r(x_0)\n",
        "\n",
        "  grad_f = lambda x : j(x).T @ r(x)\n",
        "  f = lambda x : np.linalg.norm(r(x)) ** 2\n",
        "  wolf = Wolf(f, grad_f)\n",
        "  i = 0\n",
        "  while np.linalg.norm(grad_f_x0) > 1e-6 and i<100000:\n",
        "    pk = np.linalg.solve(j(x_0).T @ j(x_0),  -j(x_0).T @ r(x_0))\n",
        "\n",
        "\n",
        "    #trouver le alpha respecte les condition de wolf\n",
        "    alpha = wolf.backtracking(x_0, pk)\n",
        "    x_0 += alpha*pk\n",
        "    grad_f_x0 = j(x_0).T @ r(x_0)\n",
        "    i+=1\n",
        "\n",
        "  print(f\"Le nombre d'itération est de: {i}\")\n",
        "  print(f'norme du gradient: {np.linalg.norm(grad_f_x0)}')\n",
        "  return x_0\n"
      ],
      "metadata": {
        "id": "TfElAK_Nsd1a"
      },
      "execution_count": null,
      "outputs": []
    },
    {
      "cell_type": "markdown",
      "source": [
        "\\\n",
        "**Modèle exponentiel :** $$y = a   \\cdot e^{bx} $$"
      ],
      "metadata": {
        "id": "BBvT0_XTFQyb"
      }
    },
    {
      "cell_type": "code",
      "source": [
        "\n",
        "a = np.random.normal(3, 0.5, 75)\n",
        "b = np.random.normal(0.1, 0.001, 75)  # Valeurs plus petites pour éviter une explosion\n",
        "\n",
        "# Générer les données\n",
        "x_data = np.linspace(0, 30, 75)  # Réduire l'intervalle de x pour éviter des valeurs trop grandes\n",
        "y_data = a * np.exp(b * x_data)\n",
        "\n",
        "\n",
        "\n",
        "plt.scatter(x_data, y_data)\n",
        "\n",
        "# Ajout de titres et de labels\n",
        "plt.title('Nuage de points')\n",
        "plt.xlabel('Axe X')\n",
        "plt.ylabel('Axe Y')\n",
        "plt.grid()\n",
        "\n",
        "\n",
        "\n",
        "\n",
        "def modele_exponentiel(coef):\n",
        "  return y_data -(coef[0] * np.exp(coef[1] * x_data))\n",
        "\n",
        "j = jacobian(modele_exponentiel)\n",
        "#print(j(np.array([3,0.1])))\n",
        "\n",
        "sol = gauss_newtone(modele_exponentiel, j, np.array([3.5, 0.5]))\n",
        "#print(sol)\n",
        "\n",
        "plt.plot(np.linspace(0, 30, 100),sol[0]*np.exp(sol[1]*np.linspace(0, 30, 100)))\n",
        "# Affichage du nuage de points\n",
        "plt.show()\n"
      ],
      "metadata": {
        "colab": {
          "base_uri": "https://localhost:8080/",
          "height": 507
        },
        "id": "QftMycK87H5J",
        "outputId": "ba5935a2-16eb-4a05-e4a7-80c2db3718d6"
      },
      "execution_count": null,
      "outputs": [
        {
          "output_type": "stream",
          "name": "stdout",
          "text": [
            "Le nombre d'itération est de: 24\n",
            "norme du gradient: 6.898153515912435e-08\n"
          ]
        },
        {
          "output_type": "display_data",
          "data": {
            "text/plain": [
              "<Figure size 640x480 with 1 Axes>"
            ],
            "image/png": "[encoded data removed]"
          },
          "metadata": {}
        }
      ]
    },
    {
      "cell_type": "markdown",
      "source": [
        "**Modèle rationnel :** \\begin{equation}\n",
        "y = a + \\frac{1}{b x}\n",
        "\\end{equation}"
      ],
      "metadata": {
        "id": "gom4ozIGFdgg"
      }
    },
    {
      "cell_type": "code",
      "source": [
        "a = np.random.normal(0, 0.05, 50)\n",
        "b = np.random.normal(2, 0.25, 50)\n",
        "\n",
        "# Générer les données\n",
        "x_data = np.linspace(1/2, 5, 50)  # Réduire l'intervalle de x pour éviter des valeurs trop grandes\n",
        "y_data = a + 1/(b*x_data)\n",
        "\n",
        "\n",
        "\n",
        "plt.scatter(x_data, y_data)\n",
        "\n",
        "# Ajout de titres et de labels\n",
        "plt.title('Nuage de points')\n",
        "plt.xlabel('Axe X')\n",
        "plt.ylabel('Axe Y')\n",
        "plt.grid()\n",
        "\n",
        "\n",
        "\n",
        "\n",
        "def modele_exponentiel(coef):\n",
        "  return y_data -(coef[0] +  1/(coef[1] * x_data))\n",
        "\n",
        "j = jacobian(modele_exponentiel)\n",
        "#print(j(np.array([3,0.1])))\n",
        "\n",
        "sol = gauss_newtone(modele_exponentiel, j, np.array([1.0, 3.0]))\n",
        "#print(sol)\n",
        "\n",
        "plt.plot(np.linspace(1/2, 5, 100),sol[0] + 1/(sol[1]*np.linspace(1/2, 5, 100)))\n",
        "# Affichage du nuage de points\n",
        "plt.show()\n"
      ],
      "metadata": {
        "colab": {
          "base_uri": "https://localhost:8080/",
          "height": 507
        },
        "id": "9TxTCZQ9kAZ4",
        "outputId": "8845a36a-d0c3-4735-89f5-9e9ad0fae27b"
      },
      "execution_count": null,
      "outputs": [
        {
          "output_type": "stream",
          "name": "stdout",
          "text": [
            "Le nombre d'itération est de: 6\n",
            "norme du gradient: 3.609331107532551e-13\n"
          ]
        },
        {
          "output_type": "display_data",
          "data": {
            "text/plain": [
              "<Figure size 640x480 with 1 Axes>"
            ],
            "image/png": "[encoded data removed]"
          },
          "metadata": {}
        }
      ]
    },
    {
      "cell_type": "code",
      "source": [],
      "metadata": {
        "id": "8xmwe5EDeChA"
      },
      "execution_count": null,
      "outputs": []
    },
    {
      "cell_type": "markdown",
      "source": [
        "# Méthode du simplexe"
      ],
      "metadata": {
        "id": "MeqMnUU9_hLl"
      }
    },
    {
      "cell_type": "markdown",
      "source": [
        "La méthode du simplexe est une technique d'optimisation utilisée pour résoudre des problèmes de programmation linéaire. Elle vise à maximiser ou minimiser une fonction objective linéaire sous un ensemble de contraintes linéaires.\n",
        "$$\n",
        "\\text{Maximiser } c^T x \\quad \\text{sous les contraintes} \\quad Ax \\leq b, \\, x \\geq 0\n",
        "$$\n",
        "\n",
        "où $x \\in \\mathbb{R}^n$, $c \\in \\mathbb{R}^n$, $A \\in \\mathbb{R}^{m \\times n}$ et $b \\in \\mathbb{R}^m$.\n",
        "\n",
        "1.\n",
        "La méthode du simplexe, permet de naviguer dans les sommets d'un polytope défini par les contraintes du problème. Elle part d'un sommet de la solution feasible (acceptable) et se déplace le long des arêtes pour atteindre un sommet optimal, en suivant la direction qui améliore la fonction objective.\n",
        "\n",
        "2. **Théorèmes de Base**\n",
        "Théorème de l'existence de la solution optimale : Si un problème de programmation linéaire a une solution optimale, alors cette solution se trouve dans l'ensemble des sommets du polytope de solutions feasibles.\n",
        "Théorème de la dualité : Chaque problème de programmation linéaire (problème primal) a un problème dual associé. Les valeurs optimales du primal et du dual sont égales sous certaines conditions, permettant d'analyser les solutions de manière complémentaire.\n",
        "\n",
        "3. **Critère d'Optimalité**\n",
        "Le critère d'optimalité dans la méthode du simplexe repose sur l'évaluation des coefficients de la fonction objective dans la base actuelle. Si tous les coefficients des variables non basiques sont non positifs (pour un problème de maximisation), la solution est optimale.\n",
        "\n",
        "4. **Fonctionnement de la Méthode**\n",
        "Initialisation : Commence avec une solution de base réalisable.\n",
        "Itérations : À chaque itération, le simplexe évalue les coefficients de la fonction objective. Si la condition d'optimalité n'est pas satisfaite, il choisit la variable à entrer dans la base et détermine la variable à sortir.\n",
        "Convergence : Le processus se répète jusqu'à ce qu'aucune amélioration supplémentaire ne soit possible, atteignant ainsi la solution optimale.\n",
        "\n"
      ],
      "metadata": {
        "id": "q-KiAw4vEsdN"
      }
    },
    {
      "cell_type": "code",
      "source": [
        "class simplexe:\n",
        "  \"\"\"\n",
        "    Classe représentant l'algorithme du simplexe pour résoudre des problèmes d'optimisation linéaire.\n",
        "\n",
        "    :param f: Coefficients de la fonction objectif à maximiser ou minimiser.\n",
        "    :param A: Matrice des coefficients des contraintes (système d'équations linéaires).\n",
        "    :param b: Vecteur des constantes des contraintes (côté droit des équations).\n",
        "\n",
        "    :return: Aucune valeur retournée directement; affiche la solution optimale à la fin de l'optimisation.\n",
        "  \"\"\"\n",
        "\n",
        "  def __init__(self, f, A, b):\n",
        "    self.n = len(f) #nombre de variable de la fonction\n",
        "\n",
        "    #construction du tableau\n",
        "    matrix = np.array(A,  dtype=float)\n",
        "    matrix = np.column_stack((matrix, b))\n",
        "    c = np.concatenate((f, np.zeros(A.shape[0] + 1)))\n",
        "    self.matrix = np.vstack((c, matrix))\n",
        "\n",
        "\n",
        "    #appelle de la méthode solve pour trouver la solution optimial\n",
        "    self.solve()\n",
        "    self.afficher_sol()\n",
        "\n",
        "\n",
        "  def changement_base(self, row, col):\n",
        "    \"\"\"\n",
        "        Effectue le changement de base dans le tableau du simplexe.\n",
        "\n",
        "        :param row: Index de la ligne de pivot (ligne entrante).\n",
        "        :param col: Index de la colonne de pivot (colonne entrante).\n",
        "    \"\"\"\n",
        "\n",
        "    # 1. Diviser la ligne de pivot pour rendre matrix[row, col] égal à 1\n",
        "    self.matrix[row] = self.matrix[row] / self.matrix[row, col]\n",
        "\n",
        "    # 2. Soustraire un multiple de la ligne de pivot de chaque autre ligne\n",
        "    for i in range(len(self.matrix)):\n",
        "        if i != row:\n",
        "            # Soustraire un multiple de la ligne de pivot pour obtenir un 0 dans la colonne `col`\n",
        "            self.matrix[i] = self.matrix[i] - self.matrix[i, col] * self.matrix[row]\n",
        "\n",
        "\n",
        "  def solve(self):\n",
        "    \"\"\"\n",
        "        Résout le problème d'optimisation linéaire en utilisant l'algorithme du simplexe.\n",
        "\n",
        "        Cette méthode itère pour trouver la colonne de la variable entrante et détermine la ligne de pivot\n",
        "        correspondante, en effectuant des opérations sur le tableau du simplexe jusqu'à ce qu'une solution optimale soit atteinte.\n",
        "    \"\"\"\n",
        "\n",
        "    while True:\n",
        "\n",
        "      #trouver la colonne de la variable entrente\n",
        "      col_entrante = np.argmin(self.matrix[0, :-1])\n",
        "\n",
        "      # Si tous les coûts sont positifs, la solution est optimale\n",
        "      if self.matrix[0, col_entrante] >= 0:\n",
        "        break\n",
        "\n",
        "      # Trouver le pivot\n",
        "      ratios = self.matrix[1:, -1] / self.matrix[1:, col_entrante]\n",
        "      ratios[self.matrix[1:, col_entrante] <= 0] = np.inf\n",
        "      row_sortante = np.argmin(ratios) + 1\n",
        "\n",
        "      #changer la base dans le tableau\n",
        "      self.changement_base(row=row_sortante, col=col_entrante)\n",
        "\n",
        "\n",
        "  def afficher_sol(self):\n",
        "    \"\"\"\n",
        "        Affiche la solution optimale trouvée par l'algorithme du simplexe.\n",
        "\n",
        "        La méthode analyse le tableau du simplexe pour extraire les valeurs des variables dans la solution\n",
        "        et les imprime à l'utilisateur.\n",
        "    \"\"\"\n",
        "\n",
        "    vec_can = lambda ligne : np.count_nonzero(ligne == 1) == 1 and np.count_nonzero(ligne != 0) == 1\n",
        "\n",
        "    sol = []\n",
        "    for i in range(self.n):\n",
        "      if vec_can(self.matrix[:, i]):\n",
        "        row = np.where(self.matrix[:, i] == 1)[0]\n",
        "        sol.append(self.matrix[row[0], -1])\n",
        "\n",
        "    sol += [0] * (self.n - len(sol))\n",
        "    print(f\"La solution est: {sol}\")"
      ],
      "metadata": {
        "id": "zF-RB0H4um1U"
      },
      "execution_count": null,
      "outputs": []
    },
    {
      "cell_type": "markdown",
      "source": [
        "**Exemple**"
      ],
      "metadata": {
        "id": "l-VqxsStIGXM"
      }
    },
    {
      "cell_type": "markdown",
      "source": [
        "Un gestionnaire de portefeuille d'obligations a 100 000 \\$ à allouer à deux obligations différentes : une obligation d'entreprise et une obligation d'État. L'obligation d'entreprise a un rendement de 4\\%, une maturité de 3 ans et une note A d'une agence de notation, qui est traduite par une note numérique de 2 à des fins de calcul. En revanche, l'obligation d'État a un rendement de 3\\%, une maturité de 4 ans et une note Aaa avec une note numérique correspondante de 1 (des notes numériques plus faibles correspondent à des obligations de meilleure qualité). Le gestionnaire de portefeuille souhaite allouer ses fonds de manière à ce que la note moyenne du portefeuille ne soit pas inférieure à Aa (équivalent numérique 1,5) et que la maturité moyenne du portefeuille ne dépasse pas 3,6 ans. Tout montant non investi dans les deux obligations sera conservé dans un compte de liquidités qui, pour simplifier, est supposé ne rapporter aucun intérêt et ne contribue pas au calcul de la note ou de la maturité moyenne.\n",
        "\n",
        "\n",
        "En notant $ x_1$ et $ x_2 $ comme l'allocation de fonds à l'obligation d'entreprise et à l'obligation d'État respectivement (en milliers de dollars), nous obtenons la formulation suivante pour le problème du gestionnaire de portefeuille :\n",
        "\n",
        "$$\n",
        "\\max 4x_1 + 3x_2\n",
        "$$\n",
        "\n",
        "sous les contraintes :\n",
        "\n",
        "$$\n",
        "\\begin{align*}\n",
        "x_1 + x_2 & \\leq 100 \\\\\n",
        "\\frac {2x_1 + x_2}{100} & \\leq 1.5 \\\\\n",
        "\\frac{3x_1 + 4x_2}{100}& \\leq 3.6 \\\\\n",
        "x_1, x_2 & \\geq 0.\n",
        "\\end{align*}\n",
        "$$\n",
        "\n",
        "Nous multiplions d'abord les deux dernières inégalités par 100 pour éviter les fractions. Après avoir ajouté des variables d'écart à chacune des contraintes fonctionnelles, nous obtenons une représentation du problème sous forme standard, adaptée à la méthode du simplexe. Par exemple, en notant $ x_3 $ le montant que nous gardons en liquidités, nous pouvons réécrire la première contrainte comme $x_1 + x_2 + x_3 = 100 $ avec la condition supplémentaire de $ x_3 \\geq 0 $. En poursuivant cette stratégie, nous obtenons la formulation suivante :\n",
        "\n",
        "$$\n",
        "\\max  4x_1 + 3x_2\n",
        "$$\n",
        "\n",
        "sous les contraintes :\n",
        "\n",
        "$$\n",
        "\\begin{align*}\n",
        "x_1 + x_2 + x_3 & = 100 \\\\\n",
        "2x_1 + x_2 + x_4 & = 150 \\\\\n",
        "3x_1 + 4x_2 + x_5 & = 360 \\\\\n",
        "x_1, x_2, x_3, x_4, x_5 & \\geq 0.\n",
        "\\end{align*}\n",
        "$$\n"
      ],
      "metadata": {
        "id": "aJ8SOOWtIamx"
      }
    },
    {
      "cell_type": "code",
      "source": [
        "rendement = np.array([-4, -3])  # Nous utilisons des coefficients négatifs pour la maximisation\n",
        "\n",
        "# Matrice des coefficients des contraintes\n",
        "A = np.array([\n",
        "    [1, 1, 1, 0, 0],   # x1 + x2 + x3 = 100\n",
        "    [2, 1, 0, 1, 0],   # 2x1 + x2 + x4 = 150\n",
        "    [3, 4, 0, 0, 1]    # 3x1 + 4x2 + x5 = 360\n",
        "])\n",
        "\n",
        "# Vecteur des limites des contraintes\n",
        "b = np.array([100, 150, 360])\n",
        "\n",
        "allocation = simplexe(rendement, A, b)"
      ],
      "metadata": {
        "colab": {
          "base_uri": "https://localhost:8080/"
        },
        "id": "nWXV0de2IInw",
        "outputId": "30419312-6723-4dd1-d714-4ea846c61af1"
      },
      "execution_count": null,
      "outputs": [
        {
          "output_type": "stream",
          "name": "stdout",
          "text": [
            "La solution est: [50.0, 50.0]\n"
          ]
        }
      ]
    },
    {
      "cell_type": "markdown",
      "source": [
        "L'allocation optimale pour maximiser le rendement du portefeuille en respectant les contraintes serait de 50 % dans l'obligation d'État et de 50 % dans l'obligation gouvernementale. Ce résultat a été validé en utilisant la méthode de programmation linéaire de SciPy, et il correspond à l'exemple présenté dans le livre Optimization Methods in Finance de Gérard Cornuejols et Reha Tutuncu.\n",
        "\n"
      ],
      "metadata": {
        "id": "XrODbtbpNHHu"
      }
    },
    {
      "cell_type": "markdown",
      "source": [
        "# Interior-Point Methods"
      ],
      "metadata": {
        "id": "UwanCLXISpFd"
      }
    },
    {
      "cell_type": "code",
      "source": [
        "\"\"\"\n",
        "def interior_point(c, A, b, sigma=0.1, alpha=0.9, x_k=None, lambda_k=None, s_k=None):\n",
        "  n = A.shape[1]  # nombre de variables\n",
        "  m = A.shape[0]\n",
        "\n",
        "  if x_k is None and lambda_k is None and s_k is None:\n",
        "    x_k = np.array([0.5, 0.5, 0.5, 0.5, 0.5])\n",
        "    lambda_k = np.zeros(m)\n",
        "    s_k = np.ones(n) * 1/2\n",
        "\n",
        "\n",
        "  F = lambda x_k_F, lambda_k_F, s_k_F: np.block([\n",
        "        A.T @ lambda_k_F + s_k_F - c,  # doit avoir la même dimension que c\n",
        "        A @ x_k_F - b,                  # dimension doit être m\n",
        "        s_k_F * x_k_F    # produit de deux vecteurs # s_k_F @ x_k_F * np.ones(n)\n",
        "    ])\n",
        "\n",
        "\n",
        "  jacobien = lambda x_k_j, s_k_j: np.block([\n",
        "        [np.zeros((n, n)), A.T, np.eye(n)],       # Bloc de taille (n, n+m+n)\n",
        "        [A, np.zeros((m, m)), np.zeros((m, n))],  # Bloc de taille (m, n+m+n)\n",
        "        [np.diag(s_k_j), np.zeros((n, m)), np.diag(x_k_j)]  # Bloc de taille (n, n+m+n)\n",
        "    ])\n",
        "\n",
        "  print(x_k.shape)\n",
        "  print(A.shape)\n",
        "  dim_F = len(F(x_k, lambda_k, s_k))\n",
        "  mu_k = lambda x_k_mu, s_k_mu: np.append(np.zeros(dim_F - n), sigma * np.dot(x_k_mu, s_k_mu) / n * np.ones(n))\n",
        "  print(mu_k(x_k,s_k))\n",
        "  i = 0\n",
        "  while np.linalg.norm(F(x_k, lambda_k, s_k)) >  0.1 and i < 10:\n",
        "    print(jacobien(x_k, s_k))\n",
        "\n",
        "    sol_sys_lin = np.linalg.solve(jacobien(x_k, s_k), -F(x_k, lambda_k, s_k) + mu_k(x_k, s_k))\n",
        "    # while np.dot(x_k,s_k)<0 :\n",
        "    # alpha /= 2\n",
        "    sol_sys_lin += alpha*sol_sys_lin\n",
        "    x_k = sol_sys_lin[:n]\n",
        "    lambda_k = sol_sys_lin[n:n+m]\n",
        "    s_k = sol_sys_lin[n+m: 2*n + m]\n",
        "    #break\n",
        "    i+=1\n",
        "\n",
        "  return x_k\n",
        "\n",
        "\n",
        "# f = np.array([1, 1])  # Nous utilisons des coefficients négatifs pour la maximisation\n",
        "\n",
        "# # Matrice des coefficients des contraintes\n",
        "# A = np.array([\n",
        "#      [1, 2],\n",
        "#      [2, -1]\n",
        "# ])\n",
        "\n",
        "# # Vecteur des limites des contraintes\n",
        "# b = np.array([1, 0])\n",
        "\n",
        "# print(interior_point(f, A, b))\n",
        "\"\"\""
      ],
      "metadata": {
        "id": "sOVzRNrrSwLi",
        "colab": {
          "base_uri": "https://localhost:8080/",
          "height": 140
        },
        "outputId": "288f536e-5806-45a7-b299-544d4d6ea71f"
      },
      "execution_count": null,
      "outputs": [
        {
          "output_type": "execute_result",
          "data": {
            "text/plain": [
              "'\\ndef interior_point(c, A, b, sigma=0.1, alpha=0.9, x_k=None, lambda_k=None, s_k=None):\\n  n = A.shape[1]  # nombre de variables\\n  m = A.shape[0]\\n\\n  if x_k is None and lambda_k is None and s_k is None:\\n    x_k = np.array([0.5, 0.5, 0.5, 0.5, 0.5])\\n    lambda_k = np.zeros(m)\\n    s_k = np.ones(n) * 1/2\\n\\n\\n  F = lambda x_k_F, lambda_k_F, s_k_F: np.block([\\n        A.T @ lambda_k_F + s_k_F - c,  # doit avoir la même dimension que c\\n        A @ x_k_F - b,                  # dimension doit être m\\n        s_k_F * x_k_F    # produit de deux vecteurs # s_k_F @ x_k_F * np.ones(n)\\n    ])\\n\\n\\n  jacobien = lambda x_k_j, s_k_j: np.block([\\n        [np.zeros((n, n)), A.T, np.eye(n)],       # Bloc de taille (n, n+m+n)\\n        [A, np.zeros((m, m)), np.zeros((m, n))],  # Bloc de taille (m, n+m+n)\\n        [np.diag(s_k_j), np.zeros((n, m)), np.diag(x_k_j)]  # Bloc de taille (n, n+m+n)\\n    ])\\n\\n  print(x_k.shape)\\n  print(A.shape)\\n  dim_F = len(F(x_k, lambda_k, s_k))\\n  mu_k = lambda x_k_mu, s_k_mu: np.append(np.zeros(dim_F - n), sigma * np.dot(x_k_mu, s_k_mu) / n * np.ones(n))\\n  print(mu_k(x_k,s_k))\\n  i = 0\\n  while np.linalg.norm(F(x_k, lambda_k, s_k)) >  0.1 and i < 10:\\n    print(jacobien(x_k, s_k))\\n\\n    sol_sys_lin = np.linalg.solve(jacobien(x_k, s_k), -F(x_k, lambda_k, s_k) + mu_k(x_k, s_k))\\n    # while np.dot(x_k,s_k)<0 :\\n    # alpha /= 2\\n    sol_sys_lin += alpha*sol_sys_lin\\n    x_k = sol_sys_lin[:n]\\n    lambda_k = sol_sys_lin[n:n+m]\\n    s_k = sol_sys_lin[n+m: 2*n + m]\\n    #break\\n    i+=1\\n\\n  return x_k\\n\\n\\n# f = np.array([1, 1])  # Nous utilisons des coefficients négatifs pour la maximisation\\n\\n# # Matrice des coefficients des contraintes\\n# A = np.array([\\n#      [1, 2],\\n#      [2, -1]\\n# ])\\n\\n# # Vecteur des limites des contraintes\\n# b = np.array([1, 0])\\n\\n# print(interior_point(f, A, b))\\n'"
            ],
            "application/vnd.google.colaboratory.intrinsic+json": {
              "type": "string"
            }
          },
          "metadata": {},
          "execution_count": 17
        }
      ]
    },
    {
      "cell_type": "code",
      "source": [],
      "metadata": {
        "id": "tzQfqvQ6I67v"
      },
      "execution_count": null,
      "outputs": []
    },
    {
      "cell_type": "markdown",
      "source": [
        "# QP"
      ],
      "metadata": {
        "id": "C4f02Cmle5Zl"
      }
    },
    {
      "cell_type": "code",
      "source": [
        "from scipy.optimize import minimize\n",
        "from scipy.linalg import pinv"
      ],
      "metadata": {
        "id": "Iodwh3aFe9-T"
      },
      "execution_count": null,
      "outputs": []
    },
    {
      "cell_type": "code",
      "source": [
        "def active_set_method(G, c, A, b, x_0):\n",
        "  #dimension matrice inegalité\n",
        "  n_row, n_col = A.shape\n",
        "\n",
        "  #trouver le premier working set\n",
        "  W = []\n",
        "  for i in range(n_row):\n",
        "    if A[i, :] @ x_0 - b[i] == 0:\n",
        "      #contrainte active\n",
        "      W.append(i)\n",
        "\n",
        "\n",
        "  #probleme de minimisation contraite d'égalité pour trouver la direction de la prochaine iteration\n",
        "  def objective(p):\n",
        "    return 0.5 * p.T @ G @ p + (G @ x_0 + c).T @ p\n",
        "\n",
        "  # Fonction contrainte\n",
        "  def constraint():\n",
        "    # Trier W pour garantir l'ordre croissant des lignes de A\n",
        "    W_sorted = sorted(W)\n",
        "    mat = np.vstack([A[i, :] for i in W_sorted])\n",
        "    return mat\n",
        "\n",
        "  #step length\n",
        "  def alpha():\n",
        "    inactive_indices = [i for i in range(len(b)) if i not in W]\n",
        "    alpha_k = float('inf')\n",
        "\n",
        "    idx = 0\n",
        "    # Calculer alpha_k\n",
        "    for i in inactive_indices:\n",
        "        a_i = A[i]  # a_i est maintenant une seule ligne de A\n",
        "        if np.dot(a_i, p_k) < 0:  # Vérifier si le produit scalaire est négatif\n",
        "            alpha_candidate = (b[i] - np.dot(a_i.T, x_0)) / np.dot(a_i.T, p_k)\n",
        "            if alpha_candidate < alpha_k:\n",
        "                idx = i\n",
        "                alpha_k = alpha_candidate\n",
        "\n",
        "    if alpha_k < 1:\n",
        "      W.append(idx)\n",
        "      return alpha_k\n",
        "    else:\n",
        "      return 1\n",
        "\n",
        "\n",
        "\n",
        "\n",
        "  iter = 0\n",
        "  while iter < 1000:\n",
        "    #1) Trouver la direction p_k\n",
        "    if len(W) > 0:\n",
        "      const = constraint()\n",
        "      sol_p = minimize(objective, np.zeros(n_col), method='SLSQP', constraints={'type': 'eq', 'fun': lambda p: const @ p})\n",
        "      p_k = sol_p.x\n",
        "\n",
        "    else: #le working set est vide donc optimisation sans contrainte\n",
        "       sol_p = minimize(objective, np.zeros(n_col))  # Minimisation sans contraintes\n",
        "       if sol_p.success:\n",
        "         p_k = sol_p.x\n",
        "\n",
        "\n",
        "    #apres avoir trouver p_k verifier si il est different de 0\n",
        "    if  np.all(p_k == 0):\n",
        "      #trouver les lambdas\n",
        "      lambda_ = pinv(constraint().T) @ (G @ x_0 + c)\n",
        "      if np.all(lambda_ >= 0):\n",
        "        return x_0\n",
        "\n",
        "      else:#on retire un indice du working set\n",
        "        W = sorted(W)\n",
        "        j = np.argmin(lambda_)\n",
        "        W.pop(j)\n",
        "\n",
        "\n",
        "    else: #si pk different de 0\n",
        "       #trouver un step alpha\n",
        "       alpha_k = alpha()\n",
        "       x_0 += alpha_k * p_k\n",
        "\n",
        "\n",
        "    iter += 1"
      ],
      "metadata": {
        "id": "VU3UDvdyV1QO"
      },
      "execution_count": null,
      "outputs": []
    },
    {
      "cell_type": "code",
      "source": [
        "G = np.array([[2, 0], [0, 2]])\n",
        "c =  np.array([-2, -5])\n",
        "\n",
        "    # Contraintes\n",
        "A = np.array([\n",
        "        [1, -2],  # x1 - 2x2 + 2 >= 0\n",
        "        [-1, -2],  # -x1 - 2x2 + 6 >= 0\n",
        "        [-1, 2],  # -x1 + 2x2 + 2 >= 0\n",
        "        [1, 0],   # x1 >= 0\n",
        "        [0, 1]    # x2 >= 0\n",
        "    ])\n",
        "b = np.array([-2, -6, -2, 0, 0])\n",
        "\n",
        "    # Point initial\n",
        "x_0 = np.array([2.0, 0.0])\n",
        "\n",
        "    # Appel de la méthode\n",
        "active_set_method(G, c, A, b, x_0)\n"
      ],
      "metadata": {
        "colab": {
          "base_uri": "https://localhost:8080/"
        },
        "id": "pwcZ0sXRXeFK",
        "outputId": "adbe0c36-24dd-4e5c-bee3-8949ed6cd0e5"
      },
      "execution_count": null,
      "outputs": [
        {
          "output_type": "execute_result",
          "data": {
            "text/plain": [
              "array([1.4, 1.7])"
            ]
          },
          "metadata": {},
          "execution_count": 20
        }
      ]
    },
    {
      "cell_type": "code",
      "source": [],
      "metadata": {
        "id": "UhKUckxlV170"
      },
      "execution_count": null,
      "outputs": []
    },
    {
      "cell_type": "markdown",
      "source": [
        "# Penalty method\n"
      ],
      "metadata": {
        "id": "6vVuLwQZVLyI"
      }
    },
    {
      "cell_type": "code",
      "source": [
        "from scipy.optimize import minimize\n",
        "\n",
        "def penalty_function(x, f, constraints, mu):\n",
        "    \"\"\"\n",
        "    Fonction pénalisée quadratique pour l'optimisation contrainte.\n",
        "\n",
        "    Arguments:\n",
        "    - x : variables de décision\n",
        "    - f : fonction objectif sans contraintes\n",
        "    - constraints : liste de contraintes de la forme [c1, c2, ...], où chaque ci est une fonction qui représente une contrainte d'égalité ou d'inégalité.\n",
        "    - mu : paramètre de pénalité\n",
        "\n",
        "    Retourne la valeur de la fonction pénalisée Q(x; mu).\n",
        "    \"\"\"\n",
        "    penalty = 0\n",
        "    for c in constraints:\n",
        "        penalty += mu * max(0, c(x))**2\n",
        "    return f(x) + penalty\n",
        "\n",
        "def quadratic_penalty_method(f, constraints, x0, mu0=1.0, tau0=1e-8, beta=10, tol=1e-6, max_iter=100):\n",
        "    \"\"\"\n",
        "    Méthode de pénalité quadratique.\n",
        "\n",
        "    Arguments:\n",
        "    - f : fonction objectif à minimiser (sans contraintes)\n",
        "    - constraints : liste de contraintes sous forme de fonctions [c1, c2, ...]\n",
        "    - x0 : point de départ\n",
        "    - mu0 : valeur initiale du paramètre de pénalité (par défaut 1.0)\n",
        "    - tau0 : tolérance initiale pour la norme du gradient (par défaut 1e-2)\n",
        "    - beta : facteur de croissance du paramètre de pénalité mu (par défaut 10)\n",
        "    - tol : tolérance pour l'arrêt global (par défaut 1e-6)\n",
        "    - max_iter : nombre maximal d'itérations\n",
        "\n",
        "    Retourne la solution optimale approximative x.\n",
        "    \"\"\"\n",
        "    x = x0\n",
        "    mu = mu0\n",
        "    tau = tau0\n",
        "\n",
        "    for k in range(max_iter):\n",
        "        # Définir la fonction pénalisée Q(x; mu)\n",
        "        Q = lambda x: penalty_function(x, f, constraints, mu)\n",
        "\n",
        "        # Minimiser Q(x; mu) à partir de x avec tolérance de gradient tau\n",
        "        result = minimize(Q, x, method='BFGS', tol=tau)\n",
        "        x = result.x\n",
        "\n",
        "        # Vérifier la condition de convergence\n",
        "        if np.linalg.norm(result.jac) < tol:\n",
        "            print(f\"Convergence atteinte à l'itération {k}.\")\n",
        "            break\n",
        "\n",
        "        # Mettre à jour le paramètre de pénalité et la tolérance\n",
        "        mu *= beta  # augmenter la pénalité\n",
        "        tau /= 2    # diminuer la tolérance\n",
        "\n",
        "    return x\n",
        "\n",
        "\n",
        "f = lambda x: (x[0] - 1)**2 + (x[1] - 2)**2\n",
        "\n",
        "\n",
        "constraints = [\n",
        "    lambda x: x[0] + x[1] - 3,\n",
        "    lambda x: -(x[0] - 1)\n",
        "]\n",
        "\n",
        "# Point de départ\n",
        "x0 = np.array([0.0, 0.0])\n",
        "\n",
        "# Appel de l'algorithme de pénalité quadratique\n",
        "solution = quadratic_penalty_method(f, constraints, x0)\n",
        "\n",
        "print(\"Solution trouvée :\", solution)"
      ],
      "metadata": {
        "id": "AmPlVfIJXQxZ",
        "colab": {
          "base_uri": "https://localhost:8080/"
        },
        "outputId": "f97e3cd3-c66a-47c2-afb0-2d17a6065226"
      },
      "execution_count": null,
      "outputs": [
        {
          "output_type": "stream",
          "name": "stdout",
          "text": [
            "Convergence atteinte à l'itération 0.\n",
            "Solution trouvée : [0.99999999 1.99999999]\n"
          ]
        }
      ]
    }
  ],
  "metadata": {
    "colab": {
      "provenance": [],
      "collapsed_sections": [
        "9ldtd5SAfejo",
        "SaS78X5YOU1j",
        "Ak91EktIgMK1",
        "4pYgxl1qiCKs",
        "MeqMnUU9_hLl",
        "UwanCLXISpFd",
        "C4f02Cmle5Zl",
        "6vVuLwQZVLyI"
      ]
    },
    "kernelspec": {
      "display_name": "Python 3",
      "name": "python3"
    },
    "language_info": {
      "name": "python"
    }
  },
  "nbformat": 4,
  "nbformat_minor": 0
}